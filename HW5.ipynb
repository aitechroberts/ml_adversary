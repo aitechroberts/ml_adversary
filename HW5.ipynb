{
  "nbformat": 4,
  "nbformat_minor": 0,
  "metadata": {
    "colab": {
      "provenance": []
    },
    "kernelspec": {
      "name": "python3",
      "display_name": "Python 3"
    }
  },
  "cells": [
    {
      "cell_type": "markdown",
      "metadata": {
        "id": "7YYdtMW7eZjk"
      },
      "source": [
        "#14757 Homework 5 (150 pts)\n"
      ]
    },
    {
      "cell_type": "markdown",
      "metadata": {
        "id": "XZkM3txJE44m"
      },
      "source": [
        "## **Due:** Wednesday November 20 at 3pm ET / 12 noon PT\n",
        "\n",
        "## Submission Instructions\n",
        "\n",
        "*   Download your completed notebook by clicking File->Download .ipynb and submit it on Gradescope\n",
        "*   Check your submission on Gradescope to make sure that all your code, code output and written responses appear correctly"
      ]
    },
    {
      "cell_type": "markdown",
      "metadata": {
        "id": "c8ebaVxTFAvJ"
      },
      "source": [
        "## Problem 1: Gradescope Autograder Placeholder (0 pts)"
      ]
    },
    {
      "cell_type": "markdown",
      "metadata": {
        "id": "E6D6IYz_FEgF"
      },
      "source": [
        "Gradescope requires that problem 1 be autograded for code submissions, but there are no autograded problems. Continue to problem 2."
      ]
    },
    {
      "cell_type": "markdown",
      "metadata": {
        "id": "lgPiRgPROYhy"
      },
      "source": [
        "## Problem 2: Human Activity Classification Using Wrist-worn Accelerometer Data (150 pts)"
      ]
    },
    {
      "cell_type": "markdown",
      "metadata": {
        "id": "lAZpt75zULt-"
      },
      "source": [
        "In this problem you will build, optimize and evaluate a classifier that takes as input a 3D accelerometer trace of arbitrary duration from a wrist-worn device and classifies it to one of 14 human activities.\n",
        "\n",
        "Before you begin we recommend that you:\n",
        "\n",
        "*   Review the lecture on vector quantization and/or read Section 8.3 of the textbook\n",
        "*   Read through the entirety of this problem\n",
        "*   Look at the data by downloading and unzipping `data.zip` from http://www.andrew.cmu.edu/user/dvaroday/14757/data/hw5/ to your local machine. Look specifically at the folder structure and inspect the accelerometer trace files within.\n",
        "\n",
        "Run the cell below to download and unzip `data.zip` again. This time the data will be attached to this notebook at path /content/data.\n",
        "\n",
        "Note that you may have to rerun this cell if you leave your notebook idle for a few hours."
      ]
    },
    {
      "cell_type": "code",
      "metadata": {
        "id": "DiDmVIUXKc4E"
      },
      "source": [
        "!mkdir ./data/\n",
        "!wget https://www.andrew.cmu.edu/user/dvaroday/14757/data/hw5/data.zip\n",
        "!mv data.zip ./data\n",
        "!unzip ./data/data.zip -d ./data"
      ],
      "execution_count": null,
      "outputs": []
    },
    {
      "cell_type": "markdown",
      "metadata": {
        "id": "THx1jAosaD5t"
      },
      "source": [
        "Run the cell to print out the subfolder names that correspond to the 14 human activity classes."
      ]
    },
    {
      "cell_type": "code",
      "metadata": {
        "id": "zRBu-olskFs7"
      },
      "source": [
        "import os\n",
        "\n",
        "path = '/content/data/'\n",
        "\n",
        "folders = sorted(os.listdir(path))[:-1]\n",
        "print(folders)"
      ],
      "execution_count": null,
      "outputs": []
    },
    {
      "cell_type": "markdown",
      "metadata": {
        "id": "Uz7c7thFjp7C"
      },
      "source": [
        "### Build"
      ]
    },
    {
      "cell_type": "markdown",
      "metadata": {
        "id": "w5PsDZ5PekeO"
      },
      "source": [
        "**2.1** (75 pts) Build a classifier for this data. The data items are the acceleromater trace files themselves. To obtain your classifier's features, you should extract fixed-length segments from the traces and apply vector quantization to create a histogram of cluster centers for each data item. Use $k$-means clustering and whichever multi-class classifier you wish from the `sklearn` library as building blocks. Print the accuracy and class confusion matrix for your classifier.\n",
        "\n",
        "Keep your code organized and well-documented by writing it in several code cells and using comments and/or text cells to explain your steps. We have provided some cells with high-level comments as a roadmap to get you started."
      ]
    },
    {
      "cell_type": "code",
      "metadata": {
        "id": "i5B3jHyzrxR4"
      },
      "source": [
        "# IMPORTING LIBRARIES"
      ],
      "execution_count": null,
      "outputs": []
    },
    {
      "cell_type": "code",
      "metadata": {
        "id": "V6keRZx2rxIE"
      },
      "source": [
        "# SPLITTING DATA"
      ],
      "execution_count": null,
      "outputs": []
    },
    {
      "cell_type": "code",
      "metadata": {
        "id": "5M9P6-z2ANwL"
      },
      "source": [
        "# EXTRACTING SEGMENTS FROM ALL ACCELEROMETER TRACES"
      ],
      "execution_count": null,
      "outputs": []
    },
    {
      "cell_type": "code",
      "metadata": {
        "id": "6tehOFzqANtj"
      },
      "source": [
        "# CLUSTERING"
      ],
      "execution_count": null,
      "outputs": []
    },
    {
      "cell_type": "code",
      "metadata": {
        "id": "xxDnw0iSANqm"
      },
      "source": [
        "# FEATURIZING BY BUILDING HISTOGRAMS (OR COUNT VECTORS)"
      ],
      "execution_count": null,
      "outputs": []
    },
    {
      "cell_type": "code",
      "metadata": {
        "id": "5Rgkw7hHANae"
      },
      "source": [
        "# CLASSIFICATION AND EVALUATION"
      ],
      "execution_count": null,
      "outputs": []
    },
    {
      "cell_type": "markdown",
      "metadata": {
        "id": "IqYwsDn0mOcK"
      },
      "source": [
        "### Optimize"
      ]
    },
    {
      "cell_type": "markdown",
      "metadata": {
        "id": "tIOaQFKek4mu"
      },
      "source": [
        "**2.2** (25 pts) Improve your classifier by modifying the size of the fixed-length segments and the number of cluster centers. Search for good values of these parameters in a principled way and print out the best you can find. (The search process may be time consuming.)"
      ]
    },
    {
      "cell_type": "code",
      "metadata": {
        "id": "rvgEtrpYmLsi"
      },
      "source": [],
      "execution_count": null,
      "outputs": []
    },
    {
      "cell_type": "markdown",
      "metadata": {
        "id": "JPOV_ubst5hv"
      },
      "source": [
        "### Evaluate"
      ]
    },
    {
      "cell_type": "markdown",
      "metadata": {
        "id": "UgH8oWXh-C6r"
      },
      "source": [
        "**2.3** (25 pts) Print out the accuracy and confusion matrix of the best classifier you found."
      ]
    },
    {
      "cell_type": "code",
      "metadata": {
        "id": "ZbaKby5WAqB5"
      },
      "source": [],
      "execution_count": null,
      "outputs": []
    },
    {
      "cell_type": "markdown",
      "source": [
        "### Interpret"
      ],
      "metadata": {
        "id": "FXbaoxohJ-PP"
      }
    },
    {
      "cell_type": "markdown",
      "source": [
        "**2.4** (25 pts) Explain in two or three paragraphs how you found your parameters and why your chosen parameters perform well.\n",
        "\n",
        "WRITE YOUR ANSWER HERE:"
      ],
      "metadata": {
        "id": "qGOVIBxvJ1qS"
      }
    }
  ]
}