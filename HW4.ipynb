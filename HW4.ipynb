{
  "nbformat": 4,
  "nbformat_minor": 0,
  "metadata": {
    "colab": {
      "provenance": []
    },
    "kernelspec": {
      "name": "python3",
      "display_name": "Python 3"
    }
  },
  "cells": [
    {
      "cell_type": "markdown",
      "metadata": {
        "id": "7YYdtMW7eZjk"
      },
      "source": [
        "#14757 Homework 4 (150 pts)"
      ]
    },
    {
      "cell_type": "markdown",
      "metadata": {
        "id": "8AP4ATuX2krz"
      },
      "source": [
        "## **Due:** Wednesday November 6 at 3pm ET / 12 noon ET\n",
        "\n",
        "## Submission Instructions\n",
        "\n",
        "*   Download your completed notebook by clicking File->Download .ipynb and submit it on Gradescope\n",
        "*   Check your submission on Gradescope to make sure that all your code, code output and written responses appear correctly"
      ]
    },
    {
      "cell_type": "markdown",
      "metadata": {
        "id": "gGm30ifMxWJ4"
      },
      "source": [
        "## Problem 1: Gradescope Autograder Placeholder (0 pts)"
      ]
    },
    {
      "cell_type": "markdown",
      "metadata": {
        "id": "PHRNNNe1xXDA"
      },
      "source": [
        "Gradescope requires that problem 1 be autograded for code submissions, but there are no autograded problems. Continue to problem 2."
      ]
    },
    {
      "cell_type": "markdown",
      "metadata": {
        "id": "lgPiRgPROYhy"
      },
      "source": [
        "## Problem 2: Investigating Adverse Selection with a Linear Regression Model (25 pts)"
      ]
    },
    {
      "cell_type": "markdown",
      "source": [
        "In this problem you will attempt to make a profit as an iBuyer (instant buyer) in the real estate market by using a linear regression model to predict home values. You can read more about the iBuyer business model at https://en.wikipedia.org/wiki/Instant_buyer.\n",
        "\n",
        "Imagine it is April 2021 and your iBuyer business is operating in Cupertino, California. You have access to data for all single family houses sold in Cupertino in March 2021. From the data you build a linear regression model that fits sale price to square footage and lot size, and you use this model to predict house values.\n",
        "\n",
        "Your contacts in the real estate industry tell you about several houses that are about to hit the market and are on track to be sold in May to traditional buyers. You make instant offers to the sellers to buy their houses in April and you sell the houses to the traditional buyers in May. We will use May 2021 sales data to determine how much profit you make.\n",
        "\n",
        "Before you begin take a look at the original data for this problem that comes from the following sources:\n",
        "* March 2021: https://julianalee.com/cupertino/real-estate-sales/cupertino-home-sales-2021-03.htm\n",
        "* May 2021: https://julianalee.com/cupertino/real-estate-sales/cupertino-home-sales-2021-05.htm\n",
        "\n",
        "Run the cell below to load the data and fit the linear regression model to the March 2021 data."
      ],
      "metadata": {
        "id": "h2OzoRQfL710"
      }
    },
    {
      "cell_type": "code",
      "source": [
        "import pandas as pd\n",
        "import numpy as np\n",
        "from sklearn.linear_model import LinearRegression\n",
        "\n",
        "# Load sales data from March 2021 and May 2021\n",
        "march_url = 'https://www.andrew.cmu.edu/user/dvaroday/14757/data/hw4/March2021.txt'\n",
        "may_url = 'https://www.andrew.cmu.edu/user/dvaroday/14757/data/hw4/May2021.txt'\n",
        "df_march = pd.read_csv(march_url)\n",
        "df_may = pd.read_csv(may_url)\n",
        "\n",
        "# Fit linear regression model for 'SALE PRICE' to 'SQFT' and 'LOTSZ'\n",
        "# using March 2021 sales data\n",
        "X_train = df_march[['SQFT', 'LOTSZ']]\n",
        "y_train = df_march[['SALE PRICE']]\n",
        "model = LinearRegression().fit(X_train, y_train)\n",
        "print('R^2:', model.score(X_train, y_train))"
      ],
      "metadata": {
        "id": "aTpU5ZboMArJ"
      },
      "execution_count": null,
      "outputs": []
    },
    {
      "cell_type": "markdown",
      "source": [
        "**2.1** (5 pts) Assume that you make offers on all the houses in the May 2021 data and that **all** your offers are accepted. Your offer prices are the values predicted by your model. Then you sell all the houses you bought to traditional buyers at the sale prices in the May data. Edit the code in the cell below to print out your total profit in dollars."
      ],
      "metadata": {
        "id": "ZG-sg6gQMFc0"
      }
    },
    {
      "cell_type": "code",
      "source": [
        "X_test = df_may[['SQFT', 'LOTSZ']]\n",
        "y_test = df_may[['SALE PRICE']]\n",
        "\n",
        "# START EDITING HERE - DON'T REMOVE THIS COMMENT\n",
        "\n",
        "profit_all = 0\n",
        "\n",
        "# END EDITING HERE - DON'T REMOVE THIS COMMENT\n",
        "\n",
        "print('Total profit when you buy all houses:', int(profit_all), 'dollars')"
      ],
      "metadata": {
        "id": "XKc8g9VdMLEl"
      },
      "execution_count": null,
      "outputs": []
    },
    {
      "cell_type": "markdown",
      "source": [
        "**2.2** (10 pts) Now assume you that make the same offers on the same houses but only **some** of your offers are accepted. Specifically, a seller only sells you their house if your offer exceeds their original list price (`ORIG LSPRC`). We assume that at the time the seller receives your offer, they know this intended original list price but you don't know it because they haven't announced it publicly yet.\n",
        "\n",
        "As before, you sell all the houses you bought to traditional buyers at the sale prices in the May data. Edit the code in the cell below to print out your total profit in dollars."
      ],
      "metadata": {
        "id": "pO3dVdetMTKt"
      }
    },
    {
      "cell_type": "code",
      "source": [
        "# START EDITING HERE - DON'T REMOVE THIS COMMENT\n",
        "\n",
        "profit_some = 0\n",
        "\n",
        "# END EDITING HERE - DON'T REMOVE THIS COMMENT\n",
        "\n",
        "print('Total profit when you buy some of the houses:', int(profit_some), 'dollars')"
      ],
      "metadata": {
        "id": "TJu8w_r2MYw9"
      },
      "execution_count": null,
      "outputs": []
    },
    {
      "cell_type": "markdown",
      "source": [
        "**2.3** (10 pts) Read the following article about why Zillow shut down its iBuyer business in November 2021 and pay attention to the analogy about lemons and peaches.\n",
        "\n",
        "https://www.gsb.stanford.edu/insights/flip-flop-why-zillows-algorithmic-home-buying-venture-imploded\n",
        "\n",
        "Explain in 2-4 sentence why in this problem you buy \"lemons\" on average when sellers only accept your offers if they exceed the original list prices.\n",
        "\n",
        "WRITE YOUR ANSWER HERE:"
      ],
      "metadata": {
        "id": "GGwz44wFMeUy"
      }
    },
    {
      "cell_type": "markdown",
      "metadata": {
        "id": "xWVJAS3HWW4K"
      },
      "source": [
        "## Problem 3: Interpreting Principal Components Analysis (PCA) (55 pts)"
      ]
    },
    {
      "cell_type": "markdown",
      "metadata": {
        "id": "U6fyCV3SH-pR"
      },
      "source": [
        "In this problem you will implement PCA from linear algebra primitives and interpret its output. Run the cell below to:\n",
        "\n",
        "*   load a data set of physical properties of seeds from three varieties of wheat\n",
        "*   plot a projection of the data on to the first two principal components\n",
        "\n",
        "The data set is described at http://archive.ics.uci.edu/ml/datasets/seeds"
      ]
    },
    {
      "cell_type": "code",
      "metadata": {
        "id": "gqjeXkNaWgJy"
      },
      "source": [
        "import pandas as pd\n",
        "import numpy as np\n",
        "import matplotlib.pyplot as plt\n",
        "from sklearn.preprocessing import StandardScaler\n",
        "from sklearn.decomposition import PCA\n",
        "\n",
        "# Load data\n",
        "url = 'https://www.andrew.cmu.edu/user/dvaroday/14757/data/hw4/seeds_dataset.txt'\n",
        "df = pd.read_table(url, sep='\\s+', header=None,\n",
        "                   names=['area', 'perimeter','compactness','length','width',\n",
        "                          'asymmetry coef', 'length of groove', 'variety'])\n",
        "display(df)\n",
        "\n",
        "# Separate labels and features\n",
        "labels = df['variety']\n",
        "features = df.drop('variety', axis=1)\n",
        "\n",
        "# Standardize features\n",
        "standardized_features = StandardScaler().fit_transform(features)\n",
        "\n",
        "# Project data on to first 2 principal components\n",
        "pca = PCA(n_components=2)\n",
        "pca.fit(standardized_features)\n",
        "pcs = pca.transform(standardized_features)\n",
        "\n",
        "# Plot projection\n",
        "style = ['o', '^', 's']\n",
        "for i in np.unique(labels):\n",
        "  plt.plot(pcs[labels==i,0], pcs[labels==i,1], style.pop())\n",
        "plt.xlabel('First principal component')\n",
        "plt.ylabel('Second principal component')\n",
        "plt.title('Projection on to first 2 principal components')"
      ],
      "execution_count": null,
      "outputs": []
    },
    {
      "cell_type": "markdown",
      "metadata": {
        "id": "dCZhDKObyz2l"
      },
      "source": [
        "**3.1** (10 pts) Could you build a good classifier for wheat variety based on this data set? Why? Limit your answer to 1-3 sentences.\n",
        "\n",
        "WRITE YOUR ANSWER HERE:\n"
      ]
    },
    {
      "cell_type": "markdown",
      "metadata": {
        "id": "V7DyPDTgznPD"
      },
      "source": [
        "**3.2** (10 pts) Write code in the cell below to reproduce the plot of the projection on to the first two principal components *without* using the `sklearn` libraries. In other words, you can use the existing variables `labels` and `features`, but you must reimplement standardization and PCA yourself. You can perform the eigendecomposition using `np.linalg.eig()`."
      ]
    },
    {
      "cell_type": "code",
      "metadata": {
        "id": "EhRfjLgQ2FBi"
      },
      "source": [
        "# START EDITING HERE - DON'T REMOVE THIS COMMENT\n",
        "\n",
        "pcs_from_eig = np.zeros(features.shape)\n",
        "\n",
        "# END EDITING HERE - DON'T REMOVE THIS COMMENT\n",
        "\n",
        "# Plot projection on to first 2 principal components\n",
        "style = ['o', '^', 's']\n",
        "for i in np.unique(labels):\n",
        "  plt.plot(pcs_from_eig[labels==i,0], pcs_from_eig[labels==i,1], style.pop())\n",
        "plt.xlabel('First principal component')\n",
        "plt.ylabel('Second principal component')\n",
        "plt.title('Projection on to first 2 principal components')"
      ],
      "execution_count": null,
      "outputs": []
    },
    {
      "cell_type": "markdown",
      "metadata": {
        "id": "s1yc2b753Ak3"
      },
      "source": [
        "**3.3** (10 pts) Are the two projection plots identical? If not, explain in terms of eigenvectors why they look different. Limit your answer to 1-4 sentences.\n",
        "\n",
        "WRITE YOUR ANSWER HERE:"
      ]
    },
    {
      "cell_type": "markdown",
      "metadata": {
        "id": "H4nYSX72eYX3"
      },
      "source": [
        "**3.4** (10 pts) Edit the code below to plot the fraction of variance preserved in the standardized features against the number of principal components used to represent the data set."
      ]
    },
    {
      "cell_type": "code",
      "metadata": {
        "id": "Y_wgy8n1d9Z4"
      },
      "source": [
        "# START EDITING HERE - DON'T REMOVE THIS COMMENT\n",
        "\n",
        "fraction_variance_preserved = np.zeros(7)\n",
        "\n",
        "# END EDITING HERE - DON'T REMOVE THIS COMMENT\n",
        "\n",
        "print(fraction_variance_preserved)\n",
        "plt.plot(range(1,8), fraction_variance_preserved, 'ro-')\n",
        "plt.xlabel('Number of principal components used')\n",
        "plt.ylabel('Fraction of variance preserved')"
      ],
      "execution_count": null,
      "outputs": []
    },
    {
      "cell_type": "markdown",
      "metadata": {
        "id": "6jAov6qbGGqN"
      },
      "source": [
        "**3.5** (5 pts) What is the smallest number of principal components you should use to represent the data set in order to preserve at least 98% of the variance in the standardized features?\n",
        "\n",
        "WRITE YOUR ANSWER HERE:"
      ]
    },
    {
      "cell_type": "markdown",
      "metadata": {
        "id": "rz6TPMFTw0pg"
      },
      "source": [
        "**3.6** (10 pts) Why is it important to standardize the features of this data set before applying PCA? Explain in 1-3 sentences\n",
        "\n",
        "WRITE YOUR ANSWER HERE:"
      ]
    },
    {
      "cell_type": "markdown",
      "metadata": {
        "id": "fjja7V3Zln38"
      },
      "source": [
        "## Problem 4: Network Traffic Anomaly Detection with PCA (70 pts)"
      ]
    },
    {
      "cell_type": "markdown",
      "metadata": {
        "id": "qEF5O2wY_j3S"
      },
      "source": [
        "In this problem you will take a network traffic anomaly detector for an internet backbone network and make it adaptive, and then stress test the detector's vulnerability against a denial-of-service (DoS) attack.\n",
        "\n",
        "You will work with data from the Internet2 Abilene research network. A simplified version of the network considered in this problem consists of 11 nodes and 28 unidirectional links (i.e. a pair of links for each red line in the diagram below.) There are total of 110 possible end-to-end flows because there are 11 possible sources, which can each send to 10 other destinations.\n",
        "\n",
        "For your interest you can read more about the Abiline network at the following links:\n",
        "\n",
        "*   https://en.wikipedia.org/wiki/Abilene_Network\n",
        "*   http://sigcomm.org/education/ebook/SIGCOMMeBook2013v1_chapter3.pdf (see section 2.1)\n",
        "*   https://www.cs.utexas.edu/~yzhang/research/AbileneTM/ (raw data)"
      ]
    },
    {
      "cell_type": "markdown",
      "metadata": {
        "id": "vSyOx_QAAXAf"
      },
      "source": [
        "![AbileneTopology.png](data:image/png;base64,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)"
      ]
    },
    {
      "cell_type": "markdown",
      "source": [
        "### Downloading the data"
      ],
      "metadata": {
        "id": "itKD5LNVQ0zt"
      }
    },
    {
      "cell_type": "markdown",
      "source": [
        "Run the cell below to download and unzip `abilene.zip`. The data will be attached to this notebook. Note that you may have to rerun this cell if you leave your notebook idle for a few hours."
      ],
      "metadata": {
        "id": "FBCJWvh9Q5lS"
      }
    },
    {
      "cell_type": "code",
      "source": [
        "!wget https://www.andrew.cmu.edu/user/dvaroday/14757/data/hw4/abilene.zip\n",
        "!unzip ./abilene.zip -d ./"
      ],
      "metadata": {
        "id": "4A7VfexpP3OJ"
      },
      "execution_count": null,
      "outputs": []
    },
    {
      "cell_type": "markdown",
      "metadata": {
        "id": "cuuq0cqWsbHt"
      },
      "source": [
        "### Understanding the network"
      ]
    },
    {
      "cell_type": "markdown",
      "metadata": {
        "id": "-EUNngQ4eLyY"
      },
      "source": [
        "Run the cell below to load the network's routing matrix and associated row and column labels. The rows of `routing_matrix` map to `link_labels` and the columns map to `flow_labels`. The `(row,col)` entry of `routing_matrix` is\n",
        "\n",
        "*   1 if the flow `col` is routed through the link `row`\n",
        "*   0 otherwise"
      ]
    },
    {
      "cell_type": "code",
      "metadata": {
        "id": "SeCYyHn9kb8C"
      },
      "source": [
        "import pandas as pd\n",
        "import numpy as np\n",
        "import matplotlib.pyplot as plt\n",
        "from sklearn.decomposition import PCA\n",
        "\n",
        "# Load routing matrix\n",
        "filename = 'routing_matrix_28x110.csv'\n",
        "routing_matrix = np.genfromtxt(filename, delimiter=',').astype(int)\n",
        "num_links, num_flows = routing_matrix.shape\n",
        "print('num_links =', num_links)\n",
        "print('num_flows =', num_flows)\n",
        "\n",
        "# Load link labels (rows of routing matrix)\n",
        "filename = 'link_labels.csv'\n",
        "df = pd.read_table(filename, sep=',')\n",
        "link_labels = df['Link'].tolist()\n",
        "print('Links:', link_labels)\n",
        "\n",
        "# Load flow labels (columns of routing matrix)\n",
        "filename = 'flow_labels.csv'\n",
        "df = pd.read_table(filename, sep=',')\n",
        "flow_labels = df['Flow'].tolist()\n",
        "print('Flows:', flow_labels)"
      ],
      "execution_count": null,
      "outputs": []
    },
    {
      "cell_type": "markdown",
      "metadata": {
        "id": "NiSeik09AjMk"
      },
      "source": [
        "**4.1** (10 pts) Edit the code in the cell below to print out which flows traverse the most links in the network."
      ]
    },
    {
      "cell_type": "code",
      "metadata": {
        "id": "uslJ-p72u3EI"
      },
      "source": [
        "# START EDITING HERE - DON'T REMOVE THIS COMMENT\n",
        "\n",
        "longest_flows = []\n",
        "\n",
        "# END EDITING HERE - DON'T REMOVE THIS COMMENT\n",
        "\n",
        "for flow in longest_flows:\n",
        "  print(flow)"
      ],
      "execution_count": null,
      "outputs": []
    },
    {
      "cell_type": "markdown",
      "metadata": {
        "id": "bOOm7NWe13lO"
      },
      "source": [
        "**4.2** (10 pts) Next print out which links are traversed by the most flows."
      ]
    },
    {
      "cell_type": "code",
      "metadata": {
        "id": "_ciUJuMkfFgQ"
      },
      "source": [
        "# START EDITING HERE - DON'T REMOVE THIS COMMENT\n",
        "\n",
        "most_traversed_links = []\n",
        "\n",
        "# END EDITING HERE - DON'T REMOVE THIS COMMENT\n",
        "\n",
        "for link in most_traversed_links:\n",
        "  print(link)"
      ],
      "execution_count": null,
      "outputs": []
    },
    {
      "cell_type": "markdown",
      "metadata": {
        "id": "Nmv7-0yzsngW"
      },
      "source": [
        "### Preparing the traffic data"
      ]
    },
    {
      "cell_type": "markdown",
      "metadata": {
        "id": "7fXb7TAnfP1u"
      },
      "source": [
        "Run the cell below to\n",
        "\n",
        "*   load end-to-end flow traffic measurements for the network\n",
        "*   aggregate the flow traffic measurements into link traffic measurements\n",
        "\n",
        "(Note that the data has been simplified for educational purposes.)\n",
        "\n",
        "This data consists of end-to-end flow traffic measurements taken once every 30 minutes for 6 weeks. The data for each week is stored in a separate file. So there are 110 measurements per sample and 336 samples per week. The data is arranged in a 3D array `flow_traffic` of shape (336, 110, 6). For simplicity, assume each measurement is in units of bits per second (bps).\n",
        "\n",
        "In the next part of this problem you are going to play the role of the ISP that operates this backbone network. Notice that the ISP *cannot* see the flow traffic measurements directly because traditional IP packets do not contain flow identifiers. But the ISP can see the traffic on each link because it operates the routers.\n",
        "\n",
        "So the code below also aggregates the 110 flow traffic measurements into 28 link traffic measurements for each sample and each week. This data is arranged in a 3D array `link_traffic` of shape (336, 28, 6).\n",
        "\n",
        "The ISP can perform network anomaly detection using the link traffic."
      ]
    },
    {
      "cell_type": "code",
      "metadata": {
        "id": "T2aNdTZ2lgwb"
      },
      "source": [
        "num_samples = 336\n",
        "num_weeks = 6\n",
        "\n",
        "# Load six weeks of flow traffic measurements\n",
        "flow_traffic = np.zeros((num_samples, num_flows, num_weeks))\n",
        "for wk in range(num_weeks):\n",
        "  filename = 'flowtraffic_336x110_wk' + str(wk) + '.csv'\n",
        "  flow_traffic[:,:,wk] = np.genfromtxt(filename, delimiter=',')\n",
        "\n",
        "# Aggregate flow traffic into link traffic measurements\n",
        "link_traffic = np.zeros((num_samples, num_links, num_weeks))\n",
        "for wk in range(num_weeks):\n",
        "  link_traffic[:,:,wk] = np.matmul(flow_traffic[:,:,wk], routing_matrix.T)\n",
        "\n",
        "print('Shape of flow_traffic:', flow_traffic.shape)\n",
        "print('Shape of link_traffic:', link_traffic.shape)"
      ],
      "execution_count": null,
      "outputs": []
    },
    {
      "cell_type": "markdown",
      "metadata": {
        "id": "n5Y6JPRT6b4O"
      },
      "source": [
        "### Running a link traffic anomaly detector"
      ]
    },
    {
      "cell_type": "markdown",
      "metadata": {
        "id": "8-SZKdr98DG2"
      },
      "source": [
        "Now you play the role of the ISP. Run the link traffic anomaly detector in the cell below. The detector works as follows:\n",
        "\n",
        "*   A PCA model with 4 principal components is fit to the link traffic of week 0\n",
        "*   If link traffic at any time produces a residual greater than 300 Mbps with respect to the PCA model, then that link traffic is considered an anomaly\n",
        "\n",
        "The box plots display the traffic residuals for weeks 1 to 5. There are no anomalies because the residuals are all below the threshold."
      ]
    },
    {
      "cell_type": "code",
      "metadata": {
        "id": "uDa9DIH4bh6E"
      },
      "source": [
        "def get_residuals(pc_model, data):\n",
        "  # project data onto principal components\n",
        "  projections = pc_model.transform(data)\n",
        "  # reconstruct projections back into original space\n",
        "  reconstructions = pc_model.inverse_transform(projections)\n",
        "  # compute difference between data and reconstructions\n",
        "  differences = data - reconstructions\n",
        "  # compute residuals as magnitude of difference vectors\n",
        "  residuals = np.linalg.norm(differences, axis=1)\n",
        "  return residuals\n",
        "\n",
        "## Link Traffic Anomaly Detector\n",
        "\n",
        "# Set a threshold of 300 Mbps on traffic residuals\n",
        "threshold = 3e8\n",
        "\n",
        "# Fit PCA model to link traffic of week 0\n",
        "pca = PCA(n_components=4)\n",
        "pca.fit(link_traffic[:,:,0])\n",
        "\n",
        "# Apply PCA to weeks 1 to 5 and save traffic residuals\n",
        "wks = range(1, num_weeks)\n",
        "saved_residuals = [None for wk in wks]\n",
        "for wk in wks:\n",
        "  residuals = get_residuals(pca, link_traffic[:,:,wk])\n",
        "  saved_residuals[wk-1] = residuals\n",
        "\n",
        "# Week-by-week boxplots of traffic residuals with threshold shown in blue\n",
        "plt.boxplot(saved_residuals, labels=wks)\n",
        "plt.hlines(threshold, 0.5, 5.5, 'blue', 'dashed')\n",
        "plt.xlabel('week')\n",
        "plt.ylabel('traffic residual (bps)')"
      ],
      "execution_count": null,
      "outputs": []
    },
    {
      "cell_type": "markdown",
      "metadata": {
        "id": "CRm7kVj8taJ_"
      },
      "source": [
        "**4.3** (10 pts) In the box plots above notice that the median residual (shown in orange) is increasing as the weeks progress. Speculate in 1-2 sentences about why a real network could cause this phenomenon.\n",
        "\n",
        "WRITE YOUR ANSWER HERE:"
      ]
    },
    {
      "cell_type": "markdown",
      "metadata": {
        "id": "qWHQXvRxo-7p"
      },
      "source": [
        "### Running an adaptive link traffic anomaly detector"
      ]
    },
    {
      "cell_type": "markdown",
      "metadata": {
        "id": "ZK36T8QQqxwO"
      },
      "source": [
        "**4.4** (10 pts) The increase in median residual over time is a problem because if it continues eventually even typical network link traffic may be detected as anomalous. Edit the anomaly detector code in the cell below to make it adaptive. Specifically you should refit the PCA model on the previous week's data before applying it to the current week's data. You should see that the box plots do not show an increasing trend in median residual over time."
      ]
    },
    {
      "cell_type": "code",
      "metadata": {
        "id": "frkjRPpdpJxC"
      },
      "source": [
        "# START EDITING HERE - DON'T REMOVE THIS COMMENT\n",
        "\n",
        "# Fit PCA model to link traffic of week 0\n",
        "pca.fit(link_traffic[:,:,0])\n",
        "\n",
        "# Apply PCA to weeks 1 to 5 and save traffic residuals\n",
        "saved_residuals = [None for wk in wks]\n",
        "for wk in wks:\n",
        "  residuals = get_residuals(pca, link_traffic[:,:,wk])\n",
        "  saved_residuals[wk-1] = residuals\n",
        "\n",
        "# END EDITING HERE - DON'T REMOVE THIS COMMENT\n",
        "\n",
        "# Week-by-week boxplots of traffic residuals with threshold shown in blue\n",
        "plt.boxplot(saved_residuals, labels=wks)\n",
        "plt.hlines(threshold, 0.5, 5.5, 'blue', 'dashed')\n",
        "plt.xlabel('week')\n",
        "plt.ylabel('traffic residual (bps)')"
      ],
      "execution_count": null,
      "outputs": []
    },
    {
      "cell_type": "markdown",
      "metadata": {
        "id": "izOYuoQHuR3c"
      },
      "source": [
        "### Stress testing the nonadaptive link traffic anomaly detector"
      ]
    },
    {
      "cell_type": "markdown",
      "metadata": {
        "id": "2loDee79wEYu"
      },
      "source": [
        "Run the cell below to perform a stress test against the nonadaptive link traffic anomaly detector. The stress test works as follows:\n",
        "\n",
        "*   One end-to-end flow is chosen as the `stress_flow` (in this case, Los Angeles->New York City)\n",
        "*   For each week in weeks 1 to 5, the flow traffic along `stress_flow` is doubled until an anomaly is detected\n",
        "*   The number of doublings achieved before detection is saved for each week\n",
        "\n",
        "The bar chart shows that the maximum doublings is stable over all weeks."
      ]
    },
    {
      "cell_type": "code",
      "metadata": {
        "id": "2GC8YF5XGk7F"
      },
      "source": [
        "stress_flow = flow_labels.index('Los Angeles->New York City')\n",
        "\n",
        "# Fit PCA model to link traffic of week 0\n",
        "pca.fit(link_traffic[:,:,0])\n",
        "\n",
        "saved_doublings = np.zeros(len(wks))\n",
        "\n",
        "for wk in wks:\n",
        "  # Copy original flow traffic for this week\n",
        "  flow_traffic_stressed = flow_traffic[:,:,wk].copy()\n",
        "\n",
        "  # Keep doubling traffic along stressed flow until an anomaly is detected\n",
        "  for doubling in range(1,20):\n",
        "\n",
        "    flow_traffic_stressed[:,stress_flow] *= 2\n",
        "    link_traffic_stressed = np.matmul(flow_traffic_stressed, routing_matrix.T)\n",
        "    residuals = get_residuals(pca, link_traffic_stressed)\n",
        "\n",
        "    # if anomaly detected, break before saving\n",
        "    if any(residuals > threshold):\n",
        "      break\n",
        "\n",
        "    saved_doublings[wk-1] = doubling\n",
        "\n",
        "# Week-by-week bar chart of maximum doublings of stressed flow before detection\n",
        "plt.bar(wks, saved_doublings)\n",
        "plt.xlabel('week')\n",
        "plt.ylabel('maximum doublings before detection')"
      ],
      "execution_count": null,
      "outputs": []
    },
    {
      "cell_type": "markdown",
      "metadata": {
        "id": "B8Fkmhm426_F"
      },
      "source": [
        "**4.5** (10 pts) Can an attacker in Los Angeles execute a weeklong DoS attack of arbitrarily large size against a host in New York City while completely evading this nonadaptive detector? Explain your answer in 1-2 sentences.\n",
        "\n",
        "WRITE YOUR ANSWER HERE:"
      ]
    },
    {
      "cell_type": "markdown",
      "metadata": {
        "id": "e9XiMOba3F3S"
      },
      "source": [
        "### Stress testing the adaptive link traffic anomaly detector"
      ]
    },
    {
      "cell_type": "markdown",
      "metadata": {
        "id": "YBo5LQUb71nL"
      },
      "source": [
        "**4.6** (10 pts) Edit the code in the cell below so that it stress tests the adaptive link traffic anomaly detector. In each of weeks 1 to 5, double the traffic along `stress_flow` until you find the maximum doublings before detection.\n",
        "\n",
        "Note that the adaptive detector refits the PCA model on the previous week's link data, but in this stress test the previous week's data is subject to its own maximum doubling along `stress_flow`. In this way the stress test can have a cumulative effect as the weeks progress."
      ]
    },
    {
      "cell_type": "code",
      "metadata": {
        "id": "B9aP9DKK5jb-"
      },
      "source": [
        "# START EDITING HERE - DON'T REMOVE THIS COMMENT\n",
        "\n",
        "# Fit PCA model to link traffic of week 0\n",
        "pca.fit(link_traffic[:,:,0])\n",
        "\n",
        "saved_doublings = np.zeros(len(wks))\n",
        "\n",
        "for wk in wks:\n",
        "  # Copy original flow traffic for this week\n",
        "  flow_traffic_stressed = flow_traffic[:,:,wk].copy()\n",
        "\n",
        "  # Keep doubling traffic along stressed flow until an anomaly is detected\n",
        "  for doubling in range(1,20):\n",
        "\n",
        "    flow_traffic_stressed[:,stress_flow] *= 2\n",
        "    link_traffic_stressed = np.matmul(flow_traffic_stressed, routing_matrix.T)\n",
        "    residuals = get_residuals(pca, link_traffic_stressed)\n",
        "\n",
        "    # if anomaly detected, break before saving\n",
        "    if any(residuals > threshold):\n",
        "      break\n",
        "\n",
        "    saved_doublings[wk-1] = doubling\n",
        "\n",
        "# END EDITING HERE - DON'T REMOVE THIS COMMENT\n",
        "\n",
        "# Week-by-week bar chart of maximum doublings of stressed flow before detection\n",
        "plt.bar(wks, saved_doublings)\n",
        "plt.xlabel('week')\n",
        "plt.ylabel('maximum doublings before detection')"
      ],
      "execution_count": null,
      "outputs": []
    },
    {
      "cell_type": "markdown",
      "metadata": {
        "id": "dJq9Xsl17Tp6"
      },
      "source": [
        "**4.7** (10 pts) Can an attacker in Los Angeles execute a weeklong DoS attack of arbitrarily large size against a host in New York City while completely evading this adaptive detector? Explain your answer in 1-2 sentences.\n",
        "\n",
        "WRITE YOUR ANSWER HERE:"
      ]
    }
  ]
}