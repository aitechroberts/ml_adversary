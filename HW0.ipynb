{
  "nbformat": 4,
  "nbformat_minor": 0,
  "metadata": {
    "colab": {
      "provenance": []
    },
    "kernelspec": {
      "name": "python3",
      "display_name": "Python 3"
    }
  },
  "cells": [
    {
      "cell_type": "markdown",
      "metadata": {
        "id": "7YYdtMW7eZjk"
      },
      "source": [
        "#14757 Homework 0 (100 pts)"
      ]
    },
    {
      "cell_type": "markdown",
      "metadata": {
        "id": "ogwpEkGexYqY"
      },
      "source": [
        "## **Due:** Wednesday September 4 at 3 pm ET / 12 noon PT\n",
        "\n",
        "## Submission Instructions\n",
        "\n",
        "*   Download your completed notebook by clicking File->Download .ipynb and submit it on Gradescope\n",
        "*   Check your submission on Gradescope to make sure that all your code, code output and written responses appear correctly\n",
        "\n",
        "## Tips for getting started\n",
        "\n",
        "*   Save a copy of this notebook in your Google Drive by clicking File->Save a copy in Drive. Then follow the instructions in each problem below. This method is the recommended way to complete the homework assignments in this course.\n",
        "*   You are required to complete all homework assignments in the Python 3 programming language\n",
        "*   We recommend that you complete the problems in order because questions often rely on the completion of previous questions\n",
        "*   Start early and feel free to ask for help in office hours or on Piazza"
      ]
    },
    {
      "cell_type": "markdown",
      "metadata": {
        "id": "5ZNPDMTGp5H4"
      },
      "source": [
        "## Problem 1: Gradescope Autograder Placeholder (0 pts)"
      ]
    },
    {
      "cell_type": "markdown",
      "metadata": {
        "id": "85nob6KDqZTp"
      },
      "source": [
        "Gradescope requires that problem 1 be autograded for code submissions, but there are no autograded problems. Continue to problem 2."
      ]
    },
    {
      "cell_type": "markdown",
      "metadata": {
        "id": "lgPiRgPROYhy"
      },
      "source": [
        "## Problem 2: How Cost Effective Are Nuclear Power Plants? (30 pts)"
      ]
    },
    {
      "cell_type": "markdown",
      "metadata": {
        "id": "V-jg4Mhnnhca"
      },
      "source": [
        "Nuclear power plants are notoriously expensive to build. In this problem you will estimate the cost effectiveness of constructing nuclear power plants in the US in the late 1960s to early 1970s. Look at the raw data and descriptions of each column here: http://www.andrew.cmu.edu/user/dvaroday/14757/data/hw0/NuclearPlants.txt\n",
        "\n",
        "To begin run the cell below by clicking the play button that appears when you hover your pointer over the cell. The code in the cell loads the data as a `pandas` data frame and displays the first and last 5 rows."
      ]
    },
    {
      "cell_type": "code",
      "metadata": {
        "id": "d1yvgGrUunz_"
      },
      "source": [
        "import pandas as pd\n",
        "\n",
        "url = 'http://www.andrew.cmu.edu/user/dvaroday/14757/data/hw0/NuclearPlants.txt'\n",
        "df = pd.read_table(url, sep='\\s', skiprows=15, engine='python')\n",
        "display(df.head())\n",
        "display(df.tail())"
      ],
      "execution_count": null,
      "outputs": []
    },
    {
      "cell_type": "markdown",
      "metadata": {
        "id": "wgz291KEQr3X"
      },
      "source": [
        "**2.1** (6 pts) Compute the mean and standard deviation of the cost in units of dollars by editing the code in the cell below. Round your answer to the nearest \\$1000. Note that you can access the cost column as `df.Cost` or `df.['Cost']`."
      ]
    },
    {
      "cell_type": "code",
      "metadata": {
        "id": "zW1pDXfuajpC"
      },
      "source": [
        "# START EDITING HERE - DON'T REMOVE THIS COMMENT\n",
        "cost_mean = 0\n",
        "cost_std = 0\n",
        "# END EDITING HERE - DON'T REMOVE THIS COMMENT\n",
        "\n",
        "print('Mean cost:         ', cost_mean,'dollars')\n",
        "print('Standard deviation:', cost_std, 'dollars')"
      ],
      "execution_count": null,
      "outputs": []
    },
    {
      "cell_type": "markdown",
      "metadata": {
        "id": "OCZC7fPfUPyM"
      },
      "source": [
        "**2.2** (6 pts) Add a column to the data frame that represents cost per megawatt for each nuclear power plant. Then compute the mean and standard deviation of the cost per megawatt in units of dollars. Round your answer to the nearest \\$1000."
      ]
    },
    {
      "cell_type": "code",
      "metadata": {
        "id": "8j540_KEx41B"
      },
      "source": [
        "# START EDITING HERE - DON'T REMOVE THIS COMMENT\n",
        "df['CostPerMWatt'] = 0\n",
        "cpmw_mean = 0\n",
        "cpmw_std = 0\n",
        "# END EDITING HERE - DON'T REMOVE THIS COMMENT\n",
        "\n",
        "print('Mean cost per MW:  ', cpmw_mean,'dollars per MW')\n",
        "print('Standard deviation:', cpmw_std, 'dollars per MW')"
      ],
      "execution_count": null,
      "outputs": []
    },
    {
      "cell_type": "markdown",
      "metadata": {
        "id": "unUTpRcUJkvm"
      },
      "source": [
        "**2.3** (6 pts) Identify outliers in this data set by writing code to display box plots using `plt.boxplot()`.  Look up how to use `plt.subplot()` to display your box plots side-by-side. Make sure to title your plots and include units.\n",
        "\n",
        "*To adhere to the course's academic integrity policy, you must include links to any online resources that you use. In this case, you can put the link(s) in a comment near your code.*\n"
      ]
    },
    {
      "cell_type": "code",
      "metadata": {
        "id": "Tsrg7_v9yHVX"
      },
      "source": [
        "import matplotlib.pyplot as plt\n",
        "\n",
        "# START EDITING HERE - DON'T REMOVE THIS COMMENT\n",
        "\n",
        "# END EDITING HERE - DON'T REMOVE THIS COMMENT"
      ],
      "execution_count": null,
      "outputs": []
    },
    {
      "cell_type": "markdown",
      "metadata": {
        "id": "ZRONaMdBcO9E"
      },
      "source": [
        "**2.4** (6 pts) Filter out the outliers and keep the remaining data items in `df_filt`. Various ways of filtering data frames are described here: https://cmdlinetips.com/2018/02/how-to-subset-pandas-dataframe-based-on-values-of-a-column. Then recalculate the mean and standard deviation of the cost per megawatt in units of dollars. Round your answer to the nearest \\$1000."
      ]
    },
    {
      "cell_type": "code",
      "metadata": {
        "id": "otDmZQWhyVW4"
      },
      "source": [
        "# START EDITING HERE - DON'T REMOVE THIS COMMENT\n",
        "df_filt = df\n",
        "filt_cpmw_mean = 0\n",
        "filt_cpmw_std = 0\n",
        "# END EDITING HERE - DON'T REMOVE THIS COMMENT\n",
        "\n",
        "print('Mean cost per MW:  ', filt_cpmw_mean,'dollars per MW')\n",
        "print('Standard deviation:', filt_cpmw_std, 'dollars per MW')"
      ],
      "execution_count": null,
      "outputs": []
    },
    {
      "cell_type": "markdown",
      "metadata": {
        "id": "7dtK75Tp6jBY"
      },
      "source": [
        "**2.5** (6 pts) Plot a histogram of cost per megawatt using `plt.hist()`. Make sure to title your plot and label axes with units where appropriate."
      ]
    },
    {
      "cell_type": "code",
      "metadata": {
        "id": "FNEprKhryjMX"
      },
      "source": [
        "# START EDITING HERE - DON'T REMOVE THIS COMMENT\n",
        "\n",
        "\n",
        "# END EDITING HERE - DON'T REMOVE THIS COMMENT"
      ],
      "execution_count": null,
      "outputs": []
    },
    {
      "cell_type": "markdown",
      "metadata": {
        "id": "wPofMMlMAigz"
      },
      "source": [
        "## Problem 3: Does Smoking Cause Cancer? (30 pts)"
      ]
    },
    {
      "cell_type": "markdown",
      "metadata": {
        "id": "5t0aFvQ_DJ-y"
      },
      "source": [
        "The relationship between smoking and cancer was an open question for many years. In this problem you will explore some data collected in 1960. Look at the raw data and descriptions of each column here: http://www.andrew.cmu.edu/user/dvaroday/14757/data/hw0/SmokingCancer.txt"
      ]
    },
    {
      "cell_type": "markdown",
      "metadata": {
        "id": "3duJoY0NHASu"
      },
      "source": [
        "**3.1** (6 pts) There are errors in the call to `pd.read_table()` in the cell below. Fix the errors so that `df` is loaded with 44 rows and 6 columns."
      ]
    },
    {
      "cell_type": "code",
      "metadata": {
        "id": "DcvrLXCZxTvx"
      },
      "source": [
        "import pandas as pd\n",
        "url = 'http://www.andrew.cmu.edu/user/dvaroday/14757/data/hw0/SmokingCancer.txt'\n",
        "\n",
        "# START EDITING HERE - DON'T REMOVE THIS COMMENT\n",
        "df = pd.read_table(url, sep='\\t', skiprows=65, engine='python')\n",
        "# END EDITING HERE - DON'T REMOVE THIS COMMENT\n",
        "\n",
        "print('Dimension of df:', df.shape)\n",
        "display(df.head())"
      ],
      "execution_count": null,
      "outputs": []
    },
    {
      "cell_type": "markdown",
      "metadata": {
        "id": "veIfeVFtHeXX"
      },
      "source": [
        "**3.2** (6 pts) Make a scatter plot of lung cancer deaths vs. cigarette sales using `plt.scatter()`. Annotate each point with its state abbreviation. Your plot should look something like the examples here: https://stackoverflow.com/questions/14432557/matplotlib-scatter-plot-with-different-text-at-each-data-point. Make sure to title your plot and label axes with units where appropriate."
      ]
    },
    {
      "cell_type": "code",
      "metadata": {
        "id": "qZbtpAzHy8Fk"
      },
      "source": [
        "import matplotlib.pyplot as plt\n",
        "\n",
        "# START EDITING HERE - DON'T REMOVE THIS COMMENT\n",
        "\n",
        "\n",
        "# END EDITING HERE - DON'T REMOVE THIS COMMENT"
      ],
      "execution_count": null,
      "outputs": []
    },
    {
      "cell_type": "markdown",
      "metadata": {
        "id": "3Xjb8mUYKGXL"
      },
      "source": [
        "You should see two noticeable outliers in the scatter plot: DC (Washington, D.C.) and NE (Nevada). *Note that US state abbreviations were not standardized until 1963. This data is from 1960, so NE=Nevada and NB=Nebraska. There are other oddities such as PE=Pennsylvania.*"
      ]
    },
    {
      "cell_type": "markdown",
      "metadata": {
        "id": "t4OnB0faP-Rt"
      },
      "source": [
        "**3.3** (6 pts) Filter out the two outliers and print the correlation coefficients between:\n",
        "\n",
        "*   lung cancer deaths and cigarette sales\n",
        "*   leukemia deaths and cigarette sales"
      ]
    },
    {
      "cell_type": "code",
      "metadata": {
        "id": "9PJtDzNazEXR"
      },
      "source": [
        "# START EDITING HERE - DON'T REMOVE THIS COMMENT\n",
        "corr_lung = 0\n",
        "corr_leuk = 0\n",
        "# END EDITING HERE - DON'T REMOVE THIS COMMENT\n",
        "\n",
        "print('Correlation between lung cancer deaths and cigarette sales:', corr_lung)\n",
        "print('Correlation between leukemia deaths and cigarette sales:   ', corr_leuk)"
      ],
      "execution_count": null,
      "outputs": []
    },
    {
      "cell_type": "markdown",
      "metadata": {
        "id": "6jgCo7LnAYcA"
      },
      "source": [
        "**3.4** (6 pts) You should see a positive correlation between lung cancer deaths and cigarette sales, and a negative correlation between leukemia deaths and cigarette sales. Do these values mean that smoking causes lung cancer, or that smoking protects against leukemia? Why?\n",
        "\n",
        "WRITE YOUR ANSWER HERE:"
      ]
    },
    {
      "cell_type": "markdown",
      "metadata": {
        "id": "cFQLK_-hQ22Q"
      },
      "source": [
        "**3.5** (6 pts) We can justify excluding Nevada as an outlier by explaining that its unusually high cigarette sales were due to huge amounts of tourism in Las Vegas relative to population. Tourists buy cigarettes but don't contribute to the state's official population. And if they eventually die of cancer, their deaths are likely recorded elsewhere. Provide a similar explanation (not tourism) that would justify excluding Washington D.C. as an outlier.\n",
        "\n",
        "WRITE YOUR ANSWER HERE:\n"
      ]
    },
    {
      "cell_type": "markdown",
      "metadata": {
        "id": "yGHknXEild0S"
      },
      "source": [
        "## Problem 4: How Much to Overbook a Helicopter Flight? (40 pts)"
      ]
    },
    {
      "cell_type": "markdown",
      "metadata": {
        "id": "xVA1UOmEgL6c"
      },
      "source": [
        "Suppose you operate a helicopter commuting business. You notice that not all of your paid-up passengers show up for their flights. So you can sell more tickets than there are seats. In this problem you will determine how much you should overbook your flights to maximize revenue.\n",
        "\n",
        "Your helicopter has 6 passenger seats and you sell tickets for \\$200 each. Your data tells you that the demand for tickets for each flight is a Poisson random variable with expectation $\\lambda$ of 7.5. You also assume that each paid-up passenger will show up on time independently with probability 65%. If a passenger does not show up on time, you get to keep the \\$200 fare. On the other hand, if more than 6 passengers show up for a flight, you compensate the ones who don’t get to fly with \\$1000 each (which includes a refund of the fare.)\n",
        "\n",
        "**4.1** (30 pts) Let $n$ be the number of tickets you offer for sale for each flight. Write a program to estimate your expected revenue, where revenue is ticket sales minus compensation for overbooking. (Notice that if you offer $n$ tickets for sale but the demand turns out to be less than $n$, then you are left with unsold tickets. If the demand turns out to be greater than\n",
        "$n$, some potential customers do not get to purchase tickets.) Your program should simulate the value of revenue for 100,000 trials for each value of $n$, where $6 \\leq n \\leq 15$.\n",
        "\n",
        "*Python tips*: We recommend that you use `numpy` library functions such as `np.minimum()`, `np.maximum()`, `np.random.poisson()`, `np.random.binomial()` and `np.mean()`. If your Python code uses nested loops (one for $n$ and one for the trials), your simulation will take minutes to complete. If you have a loop for $n$ and use vectorized operations instead of the other loop, your simulation will finish in less than a second (more than 500x speedup.) In this problem, a vectorized solution means that most lines of code will operate on arrays of size 100,000. That is, for each value of $n$ the program processes all 100,000 trials together. We will accept vectorized or non-vectorized programs for full credit. While the speed-up may\n",
        "not make a difference here, vectorization will be more important when you train ML models later in the semester. More info: https://realpython.com/numpy-array-programming"
      ]
    },
    {
      "cell_type": "code",
      "metadata": {
        "id": "XjYOTHCczPbL"
      },
      "source": [
        "import numpy as np\n",
        "\n",
        "# START EDITING HERE - DON'T REMOVE THIS COMMENT\n",
        "\n",
        "\n",
        "# END EDITING HERE - DON'T REMOVE THIS COMMENT"
      ],
      "execution_count": null,
      "outputs": []
    },
    {
      "cell_type": "markdown",
      "metadata": {
        "id": "1-tebngYquHY"
      },
      "source": [
        "**4.2** (6 pts) Plot expected revenue vs. $n$ (for $6 \\leq n \\leq 15$). Make sure to include a title, axis labels and units where appropriate."
      ]
    },
    {
      "cell_type": "code",
      "metadata": {
        "id": "4vjQt-qzzY1R"
      },
      "source": [
        "import matplotlib.pyplot as plt\n",
        "\n",
        "# START EDITING HERE - DON'T REMOVE THIS COMMENT\n",
        "\n",
        "\n",
        "# END EDITING HERE - DON'T REMOVE THIS COMMENT"
      ],
      "execution_count": null,
      "outputs": []
    },
    {
      "cell_type": "markdown",
      "metadata": {
        "id": "Sqdb_P-vr9b1"
      },
      "source": [
        "**4.3** (4 pts) What is the optimal number of tickets $n$ you should offer for sale and what is the expected revenue in that case?\n",
        "\n",
        "WRITE YOUR ANSWER HERE:"
      ]
    }
  ]
}