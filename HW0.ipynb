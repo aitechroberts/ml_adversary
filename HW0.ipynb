{
  "cells": [
    {
      "cell_type": "markdown",
      "metadata": {
        "id": "7YYdtMW7eZjk"
      },
      "source": [
        "#14757 Homework 0 (100 pts)"
      ]
    },
    {
      "cell_type": "markdown",
      "metadata": {
        "id": "ogwpEkGexYqY"
      },
      "source": [
        "## **Due:** Wednesday September 4 at 3 pm ET / 12 noon PT\n",
        "\n",
        "## Submission Instructions\n",
        "\n",
        "*   Download your completed notebook by clicking File->Download .ipynb and submit it on Gradescope\n",
        "*   Check your submission on Gradescope to make sure that all your code, code output and written responses appear correctly\n",
        "\n",
        "## Tips for getting started\n",
        "\n",
        "*   Save a copy of this notebook in your Google Drive by clicking File->Save a copy in Drive. Then follow the instructions in each problem below. This method is the recommended way to complete the homework assignments in this course.\n",
        "*   You are required to complete all homework assignments in the Python 3 programming language\n",
        "*   We recommend that you complete the problems in order because questions often rely on the completion of previous questions\n",
        "*   Start early and feel free to ask for help in office hours or on Piazza"
      ]
    },
    {
      "cell_type": "markdown",
      "metadata": {
        "id": "5ZNPDMTGp5H4"
      },
      "source": [
        "## Problem 1: Gradescope Autograder Placeholder (0 pts)"
      ]
    },
    {
      "cell_type": "markdown",
      "metadata": {
        "id": "85nob6KDqZTp"
      },
      "source": [
        "Gradescope requires that problem 1 be autograded for code submissions, but there are no autograded problems. Continue to problem 2."
      ]
    },
    {
      "cell_type": "markdown",
      "metadata": {
        "id": "lgPiRgPROYhy"
      },
      "source": [
        "## Problem 2: How Cost Effective Are Nuclear Power Plants? (30 pts)"
      ]
    },
    {
      "cell_type": "markdown",
      "metadata": {
        "id": "V-jg4Mhnnhca"
      },
      "source": [
        "Nuclear power plants are notoriously expensive to build. In this problem you will estimate the cost effectiveness of constructing nuclear power plants in the US in the late 1960s to early 1970s. Look at the raw data and descriptions of each column here: http://www.andrew.cmu.edu/user/dvaroday/14757/data/hw0/NuclearPlants.txt\n",
        "\n",
        "To begin run the cell below by clicking the play button that appears when you hover your pointer over the cell. The code in the cell loads the data as a `pandas` data frame and displays the first and last 5 rows."
      ]
    },
    {
      "cell_type": "code",
      "execution_count": 2,
      "metadata": {
        "id": "d1yvgGrUunz_"
      },
      "outputs": [
        {
          "data": {
            "text/html": [
              "<div>\n",
              "<style scoped>\n",
              "    .dataframe tbody tr th:only-of-type {\n",
              "        vertical-align: middle;\n",
              "    }\n",
              "\n",
              "    .dataframe tbody tr th {\n",
              "        vertical-align: top;\n",
              "    }\n",
              "\n",
              "    .dataframe thead th {\n",
              "        text-align: right;\n",
              "    }\n",
              "</style>\n",
              "<table border=\"1\" class=\"dataframe\">\n",
              "  <thead>\n",
              "    <tr style=\"text-align: right;\">\n",
              "      <th></th>\n",
              "      <th>Cost</th>\n",
              "      <th>MWatts</th>\n",
              "      <th>Date</th>\n",
              "    </tr>\n",
              "  </thead>\n",
              "  <tbody>\n",
              "    <tr>\n",
              "      <th>0</th>\n",
              "      <td>345.39</td>\n",
              "      <td>514</td>\n",
              "      <td>67.92</td>\n",
              "    </tr>\n",
              "    <tr>\n",
              "      <th>1</th>\n",
              "      <td>460.05</td>\n",
              "      <td>687</td>\n",
              "      <td>68.58</td>\n",
              "    </tr>\n",
              "    <tr>\n",
              "      <th>2</th>\n",
              "      <td>452.99</td>\n",
              "      <td>1065</td>\n",
              "      <td>67.33</td>\n",
              "    </tr>\n",
              "    <tr>\n",
              "      <th>3</th>\n",
              "      <td>443.22</td>\n",
              "      <td>1065</td>\n",
              "      <td>67.33</td>\n",
              "    </tr>\n",
              "    <tr>\n",
              "      <th>4</th>\n",
              "      <td>652.32</td>\n",
              "      <td>1065</td>\n",
              "      <td>68.00</td>\n",
              "    </tr>\n",
              "  </tbody>\n",
              "</table>\n",
              "</div>"
            ],
            "text/plain": [
              "     Cost  MWatts   Date\n",
              "0  345.39     514  67.92\n",
              "1  460.05     687  68.58\n",
              "2  452.99    1065  67.33\n",
              "3  443.22    1065  67.33\n",
              "4  652.32    1065  68.00"
            ]
          },
          "metadata": {},
          "output_type": "display_data"
        },
        {
          "data": {
            "text/html": [
              "<div>\n",
              "<style scoped>\n",
              "    .dataframe tbody tr th:only-of-type {\n",
              "        vertical-align: middle;\n",
              "    }\n",
              "\n",
              "    .dataframe tbody tr th {\n",
              "        vertical-align: top;\n",
              "    }\n",
              "\n",
              "    .dataframe thead th {\n",
              "        text-align: right;\n",
              "    }\n",
              "</style>\n",
              "<table border=\"1\" class=\"dataframe\">\n",
              "  <thead>\n",
              "    <tr style=\"text-align: right;\">\n",
              "      <th></th>\n",
              "      <th>Cost</th>\n",
              "      <th>MWatts</th>\n",
              "      <th>Date</th>\n",
              "    </tr>\n",
              "  </thead>\n",
              "  <tbody>\n",
              "    <tr>\n",
              "      <th>27</th>\n",
              "      <td>288.48</td>\n",
              "      <td>821</td>\n",
              "      <td>67.17</td>\n",
              "    </tr>\n",
              "    <tr>\n",
              "      <th>28</th>\n",
              "      <td>284.88</td>\n",
              "      <td>886</td>\n",
              "      <td>67.83</td>\n",
              "    </tr>\n",
              "    <tr>\n",
              "      <th>29</th>\n",
              "      <td>280.36</td>\n",
              "      <td>886</td>\n",
              "      <td>67.83</td>\n",
              "    </tr>\n",
              "    <tr>\n",
              "      <th>30</th>\n",
              "      <td>217.38</td>\n",
              "      <td>745</td>\n",
              "      <td>67.25</td>\n",
              "    </tr>\n",
              "    <tr>\n",
              "      <th>31</th>\n",
              "      <td>270.71</td>\n",
              "      <td>886</td>\n",
              "      <td>67.83</td>\n",
              "    </tr>\n",
              "  </tbody>\n",
              "</table>\n",
              "</div>"
            ],
            "text/plain": [
              "      Cost  MWatts   Date\n",
              "27  288.48     821  67.17\n",
              "28  284.88     886  67.83\n",
              "29  280.36     886  67.83\n",
              "30  217.38     745  67.25\n",
              "31  270.71     886  67.83"
            ]
          },
          "metadata": {},
          "output_type": "display_data"
        }
      ],
      "source": [
        "import pandas as pd\n",
        "\n",
        "url = 'http://www.andrew.cmu.edu/user/dvaroday/14757/data/hw0/NuclearPlants.txt'\n",
        "df = pd.read_table(url, sep='\\s', skiprows=15, engine='python')\n",
        "display(df.head())\n",
        "display(df.tail())"
      ]
    },
    {
      "cell_type": "markdown",
      "metadata": {
        "id": "wgz291KEQr3X"
      },
      "source": [
        "**2.1** (6 pts) Compute the mean and standard deviation of the cost in units of dollars by editing the code in the cell below. Round your answer to the nearest \\$1000. Note that you can access the cost column as `df.Cost` or `df.['Cost']`."
      ]
    },
    {
      "cell_type": "code",
      "execution_count": 3,
      "metadata": {
        "id": "zW1pDXfuajpC"
      },
      "outputs": [
        {
          "name": "stdout",
          "output_type": "stream",
          "text": [
            "Mean cost:          461.5603125 dollars\n",
            "Standard deviation: 170.12066957318333 dollars\n"
          ]
        }
      ],
      "source": [
        "# START EDITING HERE - DON'T REMOVE THIS COMMENT\n",
        "cost_mean = df.Cost.mean()\n",
        "cost_std = df.Cost.std()\n",
        "# END EDITING HERE - DON'T REMOVE THIS COMMENT\n",
        "\n",
        "print('Mean cost:         ', cost_mean,'dollars')\n",
        "print('Standard deviation:', cost_std, 'dollars')"
      ]
    },
    {
      "cell_type": "markdown",
      "metadata": {
        "id": "OCZC7fPfUPyM"
      },
      "source": [
        "**2.2** (6 pts) Add a column to the data frame that represents cost per megawatt for each nuclear power plant. Then compute the mean and standard deviation of the cost per megawatt in units of dollars. Round your answer to the nearest \\$1000."
      ]
    },
    {
      "cell_type": "code",
      "execution_count": 5,
      "metadata": {
        "id": "8j540_KEx41B"
      },
      "outputs": [
        {
          "name": "stdout",
          "output_type": "stream",
          "text": [
            "Mean cost per MW:   0.569735439641486 dollars per MW\n",
            "Standard deviation: 0.1871243018960576 dollars per MW\n"
          ]
        }
      ],
      "source": [
        "# START EDITING HERE - DON'T REMOVE THIS COMMENT\n",
        "df['CostPerMWatt'] = df.Cost/df.MWatts\n",
        "cpmw_mean = df.CostPerMWatt.mean()\n",
        "cpmw_std = df.CostPerMWatt.std()\n",
        "# END EDITING HERE - DON'T REMOVE THIS COMMENT\n",
        "\n",
        "print('Mean cost per MW:  ', cpmw_mean,'dollars per MW')\n",
        "print('Standard deviation:', cpmw_std, 'dollars per MW')"
      ]
    },
    {
      "cell_type": "markdown",
      "metadata": {
        "id": "unUTpRcUJkvm"
      },
      "source": [
        "**2.3** (6 pts) Identify outliers in this data set by writing code to display box plots using `plt.boxplot()`.  Look up how to use `plt.subplot()` to display your box plots side-by-side. Make sure to title your plots and include units.\n",
        "\n",
        "*To adhere to the course's academic integrity policy, you must include links to any online resources that you use. In this case, you can put the link(s) in a comment near your code.*\n"
      ]
    },
    {
      "cell_type": "code",
      "execution_count": 31,
      "metadata": {
        "id": "Tsrg7_v9yHVX"
      },
      "outputs": [
        {
          "data": {
            "image/png": "[encoded data removed]",
            "text/plain": [
              "<Figure size 640x480 with 3 Axes>"
            ]
          },
          "metadata": {},
          "output_type": "display_data"
        }
      ],
      "source": [
        "import matplotlib.pyplot as plt\n",
        "\n",
        "# START EDITING HERE - DON'T REMOVE THIS COMMENT\n",
        "\n",
        "# plot\n",
        "fig, (Cost, MW, Date) = plt.subplots(1, 3)\n",
        "\n",
        "# Cost\n",
        "# Cost = ax[0]\n",
        "Cost.boxplot(df.Cost)\n",
        "Cost.set_title(\"Cost\")\n",
        "Cost.set_xticklabels([\"$100,000s\"])\n",
        "\n",
        "# MW\n",
        "# MW = ax[1]\n",
        "MW.boxplot(df.MWatts)\n",
        "MW.set_title(\"Net capacity in \\nMegawatts\")\n",
        "MW.set_xticklabels([\"Megawatts\"])\n",
        "\n",
        "\n",
        "# Date\n",
        "# Date = ax[2]\n",
        "Date.boxplot(df.Date)\n",
        "Date.set_title(\"Date that construction \\npermit was issued in\\n years after 1900\")\n",
        "Date.set_xticklabels([\"Years after 1900\"])\n",
        "\n",
        "\n",
        "plt.tight_layout()\n",
        "plt.show()\n",
        "# END EDITING HERE - DON'T REMOVE THIS COMMENT"
      ]
    },
    {
      "cell_type": "markdown",
      "metadata": {
        "id": "ZRONaMdBcO9E"
      },
      "source": [
        "**2.4** (6 pts) Filter out the outliers and keep the remaining data items in `df_filt`. Various ways of filtering data frames are described here: https://cmdlinetips.com/2018/02/how-to-subset-pandas-dataframe-based-on-values-of-a-column. Then recalculate the mean and standard deviation of the cost per megawatt in units of dollars. Round your answer to the nearest \\$1000."
      ]
    },
    {
      "cell_type": "code",
      "execution_count": 28,
      "metadata": {
        "id": "otDmZQWhyVW4"
      },
      "outputs": [
        {
          "name": "stdout",
          "output_type": "stream",
          "text": [
            "     Cost  MWatts   Date  CostPerMWatt\n",
            "0  345.39     514  67.92      0.671965\n",
            "1  460.05     687  68.58      0.669651\n",
            "2  452.99    1065  67.33      0.425343\n",
            "3  443.22    1065  67.33      0.416169\n",
            "4  652.32    1065  68.00      0.612507\n",
            "Mean cost per MW:   0.5603420088879312 dollars per MW\n",
            "Standard deviation: 0.18805429765714424 dollars per MW\n"
          ]
        }
      ],
      "source": [
        "# START EDITING HERE - DON'T REMOVE THIS COMMENT\n",
        "before_july_1970 = df['Date'] <= 70.5\n",
        "df_filt = df[before_july_1970]\n",
        "filt_cpmw_mean = df_filt.CostPerMWatt.mean()\n",
        "filt_cpmw_std = df_filt.CostPerMWatt.std()\n",
        "# print(df_filt.shape)\n",
        "# print(df_filt.head())\n",
        "# END EDITING HERE - DON'T REMOVE THIS COMMENT\n",
        "\n",
        "print('Mean cost per MW:  ', filt_cpmw_mean,'dollars per MW')\n",
        "print('Standard deviation:', filt_cpmw_std, 'dollars per MW')"
      ]
    },
    {
      "cell_type": "markdown",
      "metadata": {
        "id": "7dtK75Tp6jBY"
      },
      "source": [
        "**2.5** (6 pts) Plot a histogram of cost per megawatt using `plt.hist()`. Make sure to title your plot and label axes with units where appropriate."
      ]
    },
    {
      "cell_type": "code",
      "execution_count": 32,
      "metadata": {
        "id": "FNEprKhryjMX"
      },
      "outputs": [
        {
          "data": {
            "image/png": "[encoded data removed]",
            "text/plain": [
              "<Figure size 640x480 with 1 Axes>"
            ]
          },
          "metadata": {},
          "output_type": "display_data"
        }
      ],
      "source": [
        "# START EDITING HERE - DON'T REMOVE THIS COMMENT\n",
        "plt.hist(df_filt.CostPerMWatt)\n",
        "plt.title(\"Cost per Megawatt in $100,000\")\n",
        "plt.xlabel(\"$100,000\")\n",
        "plt.ylabel(\"Number of Plants\")\n",
        "plt.show()\n",
        "\n",
        "# END EDITING HERE - DON'T REMOVE THIS COMMENT"
      ]
    },
    {
      "cell_type": "markdown",
      "metadata": {
        "id": "wPofMMlMAigz"
      },
      "source": [
        "## Problem 3: Does Smoking Cause Cancer? (30 pts)"
      ]
    },
    {
      "cell_type": "markdown",
      "metadata": {
        "id": "5t0aFvQ_DJ-y"
      },
      "source": [
        "The relationship between smoking and cancer was an open question for many years. In this problem you will explore some data collected in 1960. Look at the raw data and descriptions of each column here: http://www.andrew.cmu.edu/user/dvaroday/14757/data/hw0/SmokingCancer.txt"
      ]
    },
    {
      "cell_type": "markdown",
      "metadata": {
        "id": "3duJoY0NHASu"
      },
      "source": [
        "**3.1** (6 pts) There are errors in the call to `pd.read_table()` in the cell below. Fix the errors so that `df` is loaded with 44 rows and 6 columns."
      ]
    },
    {
      "cell_type": "code",
      "execution_count": 38,
      "metadata": {
        "id": "DcvrLXCZxTvx"
      },
      "outputs": [
        {
          "name": "stdout",
          "output_type": "stream",
          "text": [
            "Dimension of df: (44, 6)\n"
          ]
        },
        {
          "data": {
            "text/html": [
              "<div>\n",
              "<style scoped>\n",
              "    .dataframe tbody tr th:only-of-type {\n",
              "        vertical-align: middle;\n",
              "    }\n",
              "\n",
              "    .dataframe tbody tr th {\n",
              "        vertical-align: top;\n",
              "    }\n",
              "\n",
              "    .dataframe thead th {\n",
              "        text-align: right;\n",
              "    }\n",
              "</style>\n",
              "<table border=\"1\" class=\"dataframe\">\n",
              "  <thead>\n",
              "    <tr style=\"text-align: right;\">\n",
              "      <th></th>\n",
              "      <th>STATE</th>\n",
              "      <th>CIG</th>\n",
              "      <th>BLAD</th>\n",
              "      <th>LUNG</th>\n",
              "      <th>KID</th>\n",
              "      <th>LEUK</th>\n",
              "    </tr>\n",
              "  </thead>\n",
              "  <tbody>\n",
              "    <tr>\n",
              "      <th>0</th>\n",
              "      <td>AL</td>\n",
              "      <td>18.20</td>\n",
              "      <td>2.90</td>\n",
              "      <td>17.05</td>\n",
              "      <td>1.59</td>\n",
              "      <td>6.15</td>\n",
              "    </tr>\n",
              "    <tr>\n",
              "      <th>1</th>\n",
              "      <td>AZ</td>\n",
              "      <td>25.82</td>\n",
              "      <td>3.52</td>\n",
              "      <td>19.80</td>\n",
              "      <td>2.75</td>\n",
              "      <td>6.61</td>\n",
              "    </tr>\n",
              "    <tr>\n",
              "      <th>2</th>\n",
              "      <td>AR</td>\n",
              "      <td>18.24</td>\n",
              "      <td>2.99</td>\n",
              "      <td>15.98</td>\n",
              "      <td>2.02</td>\n",
              "      <td>6.94</td>\n",
              "    </tr>\n",
              "    <tr>\n",
              "      <th>3</th>\n",
              "      <td>CA</td>\n",
              "      <td>28.60</td>\n",
              "      <td>4.46</td>\n",
              "      <td>22.07</td>\n",
              "      <td>2.66</td>\n",
              "      <td>7.06</td>\n",
              "    </tr>\n",
              "    <tr>\n",
              "      <th>4</th>\n",
              "      <td>CT</td>\n",
              "      <td>31.10</td>\n",
              "      <td>5.11</td>\n",
              "      <td>22.83</td>\n",
              "      <td>3.35</td>\n",
              "      <td>7.20</td>\n",
              "    </tr>\n",
              "  </tbody>\n",
              "</table>\n",
              "</div>"
            ],
            "text/plain": [
              "  STATE    CIG  BLAD   LUNG   KID  LEUK\n",
              "0    AL  18.20  2.90  17.05  1.59  6.15\n",
              "1    AZ  25.82  3.52  19.80  2.75  6.61\n",
              "2    AR  18.24  2.99  15.98  2.02  6.94\n",
              "3    CA  28.60  4.46  22.07  2.66  7.06\n",
              "4    CT  31.10  5.11  22.83  3.35  7.20"
            ]
          },
          "metadata": {},
          "output_type": "display_data"
        }
      ],
      "source": [
        "import pandas as pd\n",
        "url = 'http://www.andrew.cmu.edu/user/dvaroday/14757/data/hw0/SmokingCancer.txt'\n",
        "\n",
        "# START EDITING HERE - DON'T REMOVE THIS COMMENT\n",
        "df = pd.read_table(url, sep='\\s+', skiprows=23, engine='python')\n",
        "# END EDITING HERE - DON'T REMOVE THIS COMMENT\n",
        "\n",
        "print('Dimension of df:', df.shape)\n",
        "display(df.head())"
      ]
    },
    {
      "cell_type": "markdown",
      "metadata": {
        "id": "veIfeVFtHeXX"
      },
      "source": [
        "**3.2** (6 pts) Make a scatter plot of lung cancer deaths vs. cigarette sales using `plt.scatter()`. Annotate each point with its state abbreviation. Your plot should look something like the examples here: https://stackoverflow.com/questions/14432557/matplotlib-scatter-plot-with-different-text-at-each-data-point. Make sure to title your plot and label axes with units where appropriate."
      ]
    },
    {
      "cell_type": "code",
      "execution_count": 44,
      "metadata": {
        "id": "qZbtpAzHy8Fk"
      },
      "outputs": [
        {
          "data": {
            "image/png": "[encoded data removed]",
            "text/plain": [
              "<Figure size 640x480 with 1 Axes>"
            ]
          },
          "metadata": {},
          "output_type": "display_data"
        }
      ],
      "source": [
        "import matplotlib.pyplot as plt\n",
        "\n",
        "# START EDITING HERE - DON'T REMOVE THIS COMMENT\n",
        "cigs = df.CIG.copy()\n",
        "lung = df.LUNG.copy()\n",
        "plt.scatter(cigs, lung)\n",
        "\n",
        "for i, state in enumerate(df.STATE):\n",
        "    plt.annotate(state, (cigs[i], lung[i]), textcoords=\"offset points\", xytext=(3,3))\n",
        "\n",
        "plt.title(\"Lung Cancer Deaths vs Cigarette Sales by State\")\n",
        "plt.xlabel(\"Cigarette Sales per Capita\")\n",
        "plt.ylabel(\"Lung Cancer Deaths per 100K\")\n",
        "\n",
        "plt.show()\n",
        "\n",
        "# END EDITING HERE - DON'T REMOVE THIS COMMENT"
      ]
    },
    {
      "cell_type": "markdown",
      "metadata": {
        "id": "3Xjb8mUYKGXL"
      },
      "source": [
        "You should see two noticeable outliers in the scatter plot: DC (Washington, D.C.) and NE (Nevada). *Note that US state abbreviations were not standardized until 1963. This data is from 1960, so NE=Nevada and NB=Nebraska. There are other oddities such as PE=Pennsylvania.*"
      ]
    },
    {
      "cell_type": "markdown",
      "metadata": {
        "id": "t4OnB0faP-Rt"
      },
      "source": [
        "**3.3** (6 pts) Filter out the two outliers and print the correlation coefficients between:\n",
        "\n",
        "*   lung cancer deaths and cigarette sales\n",
        "*   leukemia deaths and cigarette sales"
      ]
    },
    {
      "cell_type": "code",
      "execution_count": 55,
      "metadata": {
        "id": "9PJtDzNazEXR"
      },
      "outputs": [
        {
          "name": "stdout",
          "output_type": "stream",
          "text": [
            "(42, 6)\n",
            "Correlation between lung cancer deaths and cigarette sales: 0.6974025049275293\n",
            "Correlation between leukemia deaths and cigarette sales:    -0.06848122947663897\n"
          ]
        }
      ],
      "source": [
        "# START EDITING HERE - DON'T REMOVE THIS COMMENT\n",
        "bad_states = [\"DC\", \"NE\"]\n",
        "no_outliers = df['STATE'].isin(bad_states).apply(lambda x: not x)\n",
        "# print(no_outliers)\n",
        "df_filt = df[no_outliers]\n",
        "print(df_filt.shape)\n",
        "corr_lung = df.LUNG.corr(df.CIG)\n",
        "corr_leuk = df.LEUK.corr(df.CIG)\n",
        "# END EDITING HERE - DON'T REMOVE THIS COMMENT\n",
        "\n",
        "print('Correlation between lung cancer deaths and cigarette sales:', corr_lung)\n",
        "print('Correlation between leukemia deaths and cigarette sales:   ', corr_leuk)"
      ]
    },
    {
      "cell_type": "markdown",
      "metadata": {
        "id": "6jgCo7LnAYcA"
      },
      "source": [
        "**3.4** (6 pts) You should see a positive correlation between lung cancer deaths and cigarette sales, and a negative correlation between leukemia deaths and cigarette sales. Do these values mean that smoking causes lung cancer, or that smoking protects against leukemia? Why?\n",
        "\n",
        "WRITE YOUR ANSWER HERE:\n",
        "No, correlation does not equal causation. So this does not mean that smoking causes lung cancer or that smoking protects against leukemia. However, we can infer that smoking is correlated with lung cancer and that smoking's relation to leukemia is so weak that it could be considered uncorrelated."
      ]
    },
    {
      "cell_type": "markdown",
      "metadata": {
        "id": "cFQLK_-hQ22Q"
      },
      "source": [
        "**3.5** (6 pts) We can justify excluding Nevada as an outlier by explaining that its unusually high cigarette sales were due to huge amounts of tourism in Las Vegas relative to population. Tourists buy cigarettes but don't contribute to the state's official population. And if they eventually die of cancer, their deaths are likely recorded elsewhere. Provide a similar explanation (not tourism) that would justify excluding Washington D.C. as an outlier.\n",
        "\n",
        "WRITE YOUR ANSWER HERE:\n",
        "A reasonable justification for exluding Washington D.C. regards skewed cigarette sales similar to Nevada. DC as the nations capital is the home to many international diplomats, workers, etc, and while those individuals are in DC for a different reason than tourism, the relatively small population compared to other states means that those international workers could skew the cigarette sales data. Furthermore, given the small geographical footprint and the quality of healthcare available in DC whether due to the relatively high median income or status as the nation's elite congregate in DC. Many people from the metropolitan area could opt for healthcare in DC which could skew the death rates as well."
      ]
    },
    {
      "cell_type": "markdown",
      "metadata": {
        "id": "yGHknXEild0S"
      },
      "source": [
        "## Problem 4: How Much to Overbook a Helicopter Flight? (40 pts)"
      ]
    },
    {
      "cell_type": "markdown",
      "metadata": {
        "id": "xVA1UOmEgL6c"
      },
      "source": [
        "Suppose you operate a helicopter commuting business. You notice that not all of your paid-up passengers show up for their flights. So you can sell more tickets than there are seats. In this problem you will determine how much you should overbook your flights to maximize revenue.\n",
        "\n",
        "Your helicopter has 6 passenger seats and you sell tickets for \\$200 each. Your data tells you that the demand for tickets for each flight is a Poisson random variable with expectation $\\lambda$ of 7.5. You also assume that each paid-up passenger will show up on time independently with probability 65%. If a passenger does not show up on time, you get to keep the \\$200 fare. On the other hand, if more than 6 passengers show up for a flight, you compensate the ones who don’t get to fly with \\$1000 each (which includes a refund of the fare.)\n",
        "\n",
        "**4.1** (30 pts) Let $n$ be the number of tickets you offer for sale for each flight. Write a program to estimate your expected revenue, where revenue is ticket sales minus compensation for overbooking. (Notice that if you offer $n$ tickets for sale but the demand turns out to be less than $n$, then you are left with unsold tickets. If the demand turns out to be greater than\n",
        "$n$, some potential customers do not get to purchase tickets.) Your program should simulate the value of revenue for 100,000 trials for each value of $n$, where $6 \\leq n \\leq 15$.\n",
        "\n",
        "*Python tips*: We recommend that you use `numpy` library functions such as `np.minimum()`, `np.maximum()`, `np.random.poisson()`, `np.random.binomial()` and `np.mean()`. If your Python code uses nested loops (one for $n$ and one for the trials), your simulation will take minutes to complete. If you have a loop for $n$ and use vectorized operations instead of the other loop, your simulation will finish in less than a second (more than 500x speedup.) In this problem, a vectorized solution means that most lines of code will operate on arrays of size 100,000. That is, for each value of $n$ the program processes all 100,000 trials together. We will accept vectorized or non-vectorized programs for full credit. While the speed-up may\n",
        "not make a difference here, vectorization will be more important when you train ML models later in the semester. More info: https://realpython.com/numpy-array-programming"
      ]
    },
    {
      "cell_type": "code",
      "execution_count": null,
      "metadata": {
        "id": "XjYOTHCczPbL"
      },
      "outputs": [],
      "source": [
        "import numpy as np\n",
        "\n",
        "# START EDITING HERE - DON'T REMOVE THIS COMMENT\n",
        "\n",
        "\n",
        "# END EDITING HERE - DON'T REMOVE THIS COMMENT"
      ]
    },
    {
      "cell_type": "markdown",
      "metadata": {
        "id": "1-tebngYquHY"
      },
      "source": [
        "**4.2** (6 pts) Plot expected revenue vs. $n$ (for $6 \\leq n \\leq 15$). Make sure to include a title, axis labels and units where appropriate."
      ]
    },
    {
      "cell_type": "code",
      "execution_count": null,
      "metadata": {
        "id": "4vjQt-qzzY1R"
      },
      "outputs": [],
      "source": [
        "import matplotlib.pyplot as plt\n",
        "\n",
        "# START EDITING HERE - DON'T REMOVE THIS COMMENT\n",
        "\n",
        "\n",
        "# END EDITING HERE - DON'T REMOVE THIS COMMENT"
      ]
    },
    {
      "cell_type": "markdown",
      "metadata": {
        "id": "Sqdb_P-vr9b1"
      },
      "source": [
        "**4.3** (4 pts) What is the optimal number of tickets $n$ you should offer for sale and what is the expected revenue in that case?\n",
        "\n",
        "WRITE YOUR ANSWER HERE:"
      ]
    }
  ],
  "metadata": {
    "colab": {
      "provenance": []
    },
    "kernelspec": {
      "display_name": "Python 3",
      "name": "python3"
    },
    "language_info": {
      "codemirror_mode": {
        "name": "ipython",
        "version": 3
      },
      "file_extension": ".py",
      "mimetype": "text/x-python",
      "name": "python",
      "nbconvert_exporter": "python",
      "pygments_lexer": "ipython3",
      "version": "3.10.12"
    }
  },
  "nbformat": 4,
  "nbformat_minor": 0
}
